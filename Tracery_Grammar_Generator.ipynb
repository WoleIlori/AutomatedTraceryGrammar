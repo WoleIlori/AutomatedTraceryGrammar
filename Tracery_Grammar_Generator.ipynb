{
  "nbformat": 4,
  "nbformat_minor": 0,
  "metadata": {
    "colab": {
      "name": "Tracery Grammar Generator",
      "version": "0.3.2",
      "provenance": []
    },
    "kernelspec": {
      "name": "python3",
      "display_name": "Python 3"
    }
  },
  "cells": [
    {
      "metadata": {
        "id": "UbJuQH4LP6Bj",
        "colab_type": "code",
        "colab": {}
      },
      "cell_type": "code",
      "source": [
        "import io\n",
        "from google.colab import drive\n",
        "drive.mount('/content/drive')\n"
      ],
      "execution_count": 0,
      "outputs": []
    },
    {
      "metadata": {
        "id": "OIj4JsbXQPwO",
        "colab_type": "code",
        "colab": {}
      },
      "cell_type": "code",
      "source": [
        "f = open(\"/content/drive/My Drive/Dataset/Veales Dream Symbols.csv\", encoding=\"utf8\")\n",
        "lines = f.readlines()\n",
        "f.close()\n",
        "lines = [l.strip() for l in lines]"
      ],
      "execution_count": 0,
      "outputs": []
    },
    {
      "metadata": {
        "id": "jn-oR-7_QZhq",
        "colab_type": "code",
        "colab": {}
      },
      "cell_type": "code",
      "source": [
        "#get the unique headers\n",
        "headers = lines[0].split(\",\")\n",
        "headers = [h for h in headers if h != '']\n",
        "headers = set(headers)\n",
        "\n",
        "#remove the headers\n",
        "lines = lines[1:]\n",
        "\n",
        "#get the symbols\n",
        "symbols = []\n",
        "\n",
        "for line in lines:\n",
        "    line = line.split(\",\")\n",
        "    symbols.append(line[0])"
      ],
      "execution_count": 0,
      "outputs": []
    },
    {
      "metadata": {
        "id": "2dz4iaIYQdIi",
        "colab_type": "code",
        "colab": {}
      },
      "cell_type": "code",
      "source": [
        "#get all the types in the data\n",
        "types = []\n",
        "type_instances = []\n",
        "for line in lines:\n",
        "    words = line.split(\",\")\n",
        "    w_type = words[1]\n",
        "    types.append(w_type)\n",
        "type_instances= types\n",
        "unique = set(types)\n",
        "types = [t for t in unique]\n",
        "bug = types[17]\n",
        "types = [t for t in types if t != bug]\n",
        "\n",
        "#cleaning the dream type area\n",
        "for i in range(len(type_instances)):\n",
        "    line = lines[i]\n",
        "    for t in types:\n",
        "        if t in line:\n",
        "            type_instances[i] = t\n",
        "            \n",
        "#create origin rule\n",
        "origin_rule = '\"origin\":['\n",
        "main_rule = ''\n",
        "for i in range(len(symbols)):\n",
        "    if i == len(symbols) - 1:\n",
        "        origin_rule += '\"#' + symbols[i] + '#\"]'\n",
        "        main_rule += '\"' + symbols[i] + '\":[\"Card drawn:' + \\\n",
        "    symbols[i] + ', #' + type_instances[i] + '#, #' + \\\n",
        "    type_instances[i]+'#\"]'\n",
        "    else:\n",
        "        origin_rule += '\"#' + symbols[i] + '#\",' \n",
        "        main_rule += '\"' + symbols[i] + '\":[\"Card drawn:' + \\\n",
        "    symbols[i] + ', #' + type_instances[i] + '#, #' + \\\n",
        "    type_instances[i]+'#\"],'\n"
      ],
      "execution_count": 0,
      "outputs": []
    },
    {
      "metadata": {
        "id": "QOabdc2sQuTE",
        "colab_type": "code",
        "colab": {}
      },
      "cell_type": "code",
      "source": [
        "#find all the meanings relating to cards in a type \n",
        "type_dict = {}\n",
        "for t in types:\n",
        "    type_res = []\n",
        "    for line in lines:\n",
        "        l = line.split(\",\")\n",
        "        if l[1] == t:\n",
        "            l = l[2:]\n",
        "            line = [m for m in l if m !='']\n",
        "            type_res.append(line)\n",
        "    type_dict[t] = type_res\n",
        "\n",
        "#clean \n",
        "#find cut off words to make meaning similar to taroe card vocab \n",
        "cut_off_word = \"your dream\"\n",
        "c_size = len(cut_off_word)\n",
        "#stores the remaining sentence after the cut off words\n",
        "start_off_word = \"you\"\n",
        "\n",
        "for key in type_dict:\n",
        "    new_meaning = []\n",
        "    meanings = type_dict[key]\n",
        "    \n",
        "    for i in range(len(meanings)):\n",
        "        means = meanings[i]\n",
        "        for i in range(len(means)):\n",
        "            m = means[i]\n",
        "            i = m.find(start_off_word)\n",
        "            m = m[i:]\n",
        "            \n",
        "            #find your dream\n",
        "            if m.find(cut_off_word) > -1:\n",
        "                j = m.find(cut_off_word)\n",
        "                m = m[j + c_size:]\n",
        "            new_meaning.append(m)\n",
        "        \n",
        "    #append new meaning to symbol\n",
        "    type_dict[key] = new_meaning"
      ],
      "execution_count": 0,
      "outputs": []
    },
    {
      "metadata": {
        "id": "wIwO-KbbRGrf",
        "colab_type": "code",
        "colab": {}
      },
      "cell_type": "code",
      "source": [
        "#clean\n",
        "for key in type_dict:\n",
        "    clean_m = []\n",
        "    meanings = type_dict[key]\n",
        "    \n",
        "    for i in range(len(meanings)):\n",
        "        clean1 = meanings[i].strip('.')\n",
        "        clean2 = clean1.strip('\"')\n",
        "        clean_m.append(clean2)\n",
        "    type_dict[key] = clean_m\n",
        "\n",
        "for key in type_dict:\n",
        "    meanings = []\n",
        "    meanings = type_dict[key]\n",
        "    \n",
        "    while '' in meanings:\n",
        "        meanings.remove('')\n",
        "    type_dict[key] = meanings\n",
        "\n",
        "#create rule for each types\n",
        "meaning_rule = \"\"\n",
        "for t in types:\n",
        "    type_rule = '\"' + t + '\":['\n",
        "    #get all the values for a type\n",
        "    messages = type_dict[t]\n",
        "    for msg in messages:\n",
        "        type_rule += '\"' + msg + '\",'\n",
        "    type_rule = type_rule[:-1]\n",
        "    if t != 'Machine':\n",
        "        type_rule += '],'\n",
        "    else:\n",
        "        type_rule +=']'\n",
        "    meaning_rule += type_rule\n",
        "\n",
        "#combine to form tracery grammar\n",
        "tracery = '{' + origin_rule + ',' + main_rule + ',' + \\\n",
        "meaning_rule + '}'\n",
        "\n",
        "#write to file\n",
        "fout = open(\"/content/drive/My Drive/tarot.txt\", \"w\")\n",
        "fout.write(tracery)\n",
        "fout.close()"
      ],
      "execution_count": 0,
      "outputs": []
    }
  ]
}